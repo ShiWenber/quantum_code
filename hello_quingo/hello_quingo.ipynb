{
 "cells": [
  {
   "attachments": {},
   "cell_type": "markdown",
   "metadata": {},
   "source": [
    "# hello_quingo\n",
    "\n",
    "教程见：[quingo指令集用户手册](https://quantumcomputer.ac.cn/Knowledge/detail/all/bfabb496c7f64872be75b0a16e6ad5eb.html)\n",
    "\n",
    "jupyter中使用__file__变量来做获取当前文件的路径似乎报错，因此更换为了os.path"
   ]
  },
  {
   "cell_type": "code",
   "execution_count": 1,
   "metadata": {},
   "outputs": [
    {
     "name": "stdout",
     "output_type": "stream",
     "text": [
      "connecting pyqcisim_quantumsim...\n",
      "<class 'str'>\n",
      "num_qubits:  2\n",
      "<bound method Quingo_interface.read_result of <quingo.if_host.python.Quingo_interface object at 0x000001B6FF097C90>>\n"
     ]
    }
   ],
   "source": [
    "from pathlib import Path\n",
    "import os\n",
    "from quingo import quingo_interface as qi\n",
    "\n",
    "# 设置编译器为 mlir\n",
    "qi.set_compiler(\"mlir\")\n",
    "# 链接后端为 pyqcisim_quantumsim，可选的底层指令集有 qcis 和 eQASM\n",
    "qi.connect_backend(\"pyqcisim_quantumsim\")\n",
    "print(type(os.getcwd()))\n",
    "qu_file = Path(os.getcwd()) / \"kernel.qu\"\n",
    "# 调用 qu_file 中的 bell_state 函数\n",
    "if qi.call_quingo(qu_file, \"bell_state\"):\n",
    "    print(qi.read_result)\n",
    "else:\n",
    "    print(\"error\")"
   ]
  },
  {
   "attachments": {},
   "cell_type": "markdown",
   "metadata": {},
   "source": [
    "注意 quingo 的 .qu 文件不支持中文字符"
   ]
  },
  {
   "attachments": {},
   "cell_type": "markdown",
   "metadata": {},
   "source": [
    "## quingo 编程语言\n",
    "\n",
    "### 基本数据类型\n",
    "\n",
    "`int`: 32位整数\n",
    "\n",
    "`double`: 双浮点型\n",
    "\n",
    "`bool`: 布尔型\n",
    "\n",
    "`unity`: 无类型\n",
    "\n",
    "`qubit`: 量子比特\n",
    "\n",
    "### 元组\n",
    "\n",
    "`(int, bool, double) tuple1 = (1, false, 1.0);`\n",
    "\n",
    "```quingo\n",
    "int a = 1;\n",
    "\n",
    " // x为一维的整型数组，其长度为3\n",
    "int[3] x;\n",
    "\n",
    "// y为二维布尔型数组\n",
    "bool[][] y;\n",
    "\n",
    "// 将变量\"a\"赋值给数组\"x\"的第一个元素\n",
    "x[0] = a;\n",
    "// 将{1, 2, a}赋值给数组\"x\"\n",
    "x = {1, 2, a}\n",
    "```\n",
    "\n",
    "mlir 编译器暂不支持，锯齿状数组\n",
    "\n",
    "```quingo\n",
    "int [][] x;\n",
    "x = {{1, 2, 3}, {4, 5}}; // error\n",
    "```\n",
    "\n",
    "### 函数\n",
    "\n",
    "```quingo\n",
    "// 输入参数\"c\"的类型为`(int, int) -> bool`\n",
    "// 函数\"func2\"的类型为`((int, int) -> bool) -> bool`\n",
    "operation func2(c: (int, int) -> bool): bool{\n",
    "    bool b2 = false;\n",
    "    return b2;\n",
    "}\n",
    "```\n",
    "\n",
    "### 原子操作\n",
    "\n",
    "```quingo\n",
    "opaque <operation_name>(...) : <returned_value_type>;\n",
    "```\n",
    "\n",
    "### 用户自定义操作\n",
    "\n",
    "```quingo\n",
    "operation <operation_name>(...) : <returned_value_type> {\n",
    "    // body of the user-defined operation\n",
    "}\n",
    "```\n",
    "\n",
    "### 内置函数\n",
    "\n",
    "`toInt()`: 将表达式从`double`转换为`int`\n",
    "\n",
    "`toDouble()`: 将表达式从`int`转换为`double`\n",
    "\n",
    "### 注意\n",
    "\n",
    "使用`gcis`指令集的时候，不支持实时反馈，无法使用动态条件语句(将测量结果用于条件判断)"
   ]
  },
  {
   "cell_type": "code",
   "execution_count": null,
   "metadata": {},
   "outputs": [],
   "source": []
  },
  {
   "cell_type": "code",
   "execution_count": 10,
   "metadata": {},
   "outputs": [
    {
     "name": "stderr",
     "output_type": "stream",
     "text": [
      "[NbConvertApp] Converting notebook hello_quingo.ipynb to script\n",
      "[NbConvertApp] Writing 584 bytes to hello_quingo.py\n"
     ]
    }
   ],
   "source": [
    "# 转化 ipynb 为 py\n",
    "!jupyter nbconvert --to script hello_quingo.ipynb"
   ]
  }
 ],
 "metadata": {
  "kernelspec": {
   "display_name": "quantum_code",
   "language": "python",
   "name": "python3"
  },
  "language_info": {
   "codemirror_mode": {
    "name": "ipython",
    "version": 3
   },
   "file_extension": ".py",
   "mimetype": "text/x-python",
   "name": "python",
   "nbconvert_exporter": "python",
   "pygments_lexer": "ipython3",
   "version": "3.9.13"
  },
  "orig_nbformat": 4
 },
 "nbformat": 4,
 "nbformat_minor": 2
}
